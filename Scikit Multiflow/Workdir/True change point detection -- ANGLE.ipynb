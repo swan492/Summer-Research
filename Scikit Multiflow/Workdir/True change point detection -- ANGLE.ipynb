{
 "cells": [
  {
   "cell_type": "markdown",
   "metadata": {},
   "source": [
    "# True change point detection of ANGLE change detector\n",
    "\n",
    "This experiment is based on the paper \"Interpreting Intermittent Bugs in Mozilla Applications Using Change Angle\"."
   ]
  },
  {
   "cell_type": "markdown",
   "metadata": {},
   "source": [
    "## General idea for this experiment\n",
    "\n",
    "Drift detection algorithm ANGLE is feeding with a stationary data stream with noise followed by gradual changing concept, and any true alarm happened would be recorded and counted to the true positive rate, and any true change point detected would be recorded and computed the PWM rate, as well as detection delay and execution time would be also computed in this experiment."
   ]
  },
  {
   "cell_type": "markdown",
   "metadata": {},
   "source": [
    "## Details for this experiment\n",
    "\n",
    "This experiment is conducted with exactly the same sets of changing slopes of parameters $\\mu$ and magnitude of variance $\\sigma$. However, this implement only tests the ANGLE performance other than comparison between online and offline true change point detection. Due to the fact of the minimum delay time at least 300 steps, I used 300 steps as the bound of true change points instead of 100 steps in the paper."
   ]
  },
  {
   "cell_type": "markdown",
   "metadata": {},
   "source": [
    "## Setup and generate different slope with noise data stream"
   ]
  },
  {
   "cell_type": "code",
   "execution_count": 1,
   "metadata": {},
   "outputs": [],
   "source": [
    "from scipy.stats import bernoulli\n",
    "from skmultiflow.drift_detection import ANGLE\n",
    "from operator import add\n",
    "import numpy as np\n",
    "import time\n",
    "import random\n",
    "\n",
    "# We use confidence parameter delta = 0.05 for ANGLE"
   ]
  },
  {
   "cell_type": "code",
   "execution_count": 2,
   "metadata": {},
   "outputs": [],
   "source": [
    "# data stream generated for slope = 0.0001\n",
    "def stream1(variance):\n",
    "    ran_nums = np.random.uniform(low=0, high=1, size=100000).tolist()\n",
    "    data_stream = [(i*2-1)*variance+0.2 for i in ran_nums]\n",
    "    slope = 0\n",
    "    for i in range(99000, 100000):\n",
    "        slope += 0.0001\n",
    "        data_stream[i] += slope\n",
    "    return data_stream"
   ]
  },
  {
   "cell_type": "code",
   "execution_count": 3,
   "metadata": {},
   "outputs": [],
   "source": [
    "# data stream generated for slope = 0.0002\n",
    "def stream2(variance):\n",
    "    ran_nums = np.random.uniform(low=0, high=1, size=100000).tolist()\n",
    "    data_stream = [(i*2-1)*variance+0.2 for i in ran_nums]\n",
    "    slope = 0\n",
    "    for i in range(99000, 100000):\n",
    "        slope += 0.0002\n",
    "        data_stream[i] += slope\n",
    "    return data_stream"
   ]
  },
  {
   "cell_type": "code",
   "execution_count": 4,
   "metadata": {},
   "outputs": [],
   "source": [
    "# data stream generated for slope = 0.0003\n",
    "def stream3(variance):\n",
    "    ran_nums = np.random.uniform(low=0, high=1, size=100000).tolist()\n",
    "    data_stream = [(i*2-1)*variance+0.2 for i in ran_nums]\n",
    "    slope = 0\n",
    "    for i in range(99000, 100000):\n",
    "        slope += 0.0003\n",
    "        data_stream[i] += slope\n",
    "    return data_stream"
   ]
  },
  {
   "cell_type": "code",
   "execution_count": 5,
   "metadata": {},
   "outputs": [],
   "source": [
    "# data stream generated for slope = 0.0004\n",
    "def stream4(variance):\n",
    "    ran_nums = np.random.uniform(low=0, high=1, size=100000).tolist()\n",
    "    data_stream = [(i*2-1)*variance+0.2 for i in ran_nums]\n",
    "    slope = 0\n",
    "    for i in range(99000, 100000):\n",
    "        slope += 0.0004\n",
    "        data_stream[i] += slope\n",
    "    return data_stream    "
   ]
  },
  {
   "cell_type": "markdown",
   "metadata": {},
   "source": [
    "## Details for implements\n",
    "For each trial\n",
    "\n",
    "    create new drift detector instance\n",
    "    create new data stream\n",
    "\n",
    "\n",
    "    for each data instance\n",
    "\n",
    "        feed drift detector with data\n",
    "        check change happening and increment true alarm number\n",
    "        check correct true change point detected within specific steps\n",
    "\n",
    "calculate and report PWM, true alarm number, average delay time and execution time."
   ]
  },
  {
   "cell_type": "markdown",
   "metadata": {},
   "source": [
    "## Data stream with variance of 0.005"
   ]
  },
  {
   "cell_type": "code",
   "execution_count": 6,
   "metadata": {},
   "outputs": [
    {
     "name": "stdout",
     "output_type": "stream",
     "text": [
      "The PWM (within 100 steps) among 100 trails is 0.67\n",
      "The change detected number among 100 trails is 100\n",
      "The average delay time is 295.0\n",
      "The mean value of steps in change angle is 55.08955223880597\n",
      "The time for the whole tests in seconds is 64.13860702514648\n"
     ]
    }
   ],
   "source": [
    "# slope = 0.0001\n",
    "true_alarm = 0\n",
    "true_change = 0\n",
    "true_change_points = []\n",
    "delay_time = []\n",
    "start_time = time.time()\n",
    "\n",
    "for i in range(100):\n",
    "    angle = ANGLE()\n",
    "    data = stream1(0.005)\n",
    "    for j in range(100000):\n",
    "        angle.add_element(data[j])\n",
    "        if angle.detected_change() and j >= 99000:\n",
    "            delay_time.append(j-99000)\n",
    "            true_alarm += 1\n",
    "            true_change_point = j - angle.get_drift_location()\n",
    "            if true_change_point <=99100 and true_change_point >= 98900:\n",
    "                true_change += 1\n",
    "                true_change_points.append(true_change_point-99000)\n",
    "            break\n",
    "\n",
    "print(\"The PWM (within 100 steps) among 100 trails is\", true_change * 1.0 / true_alarm)\n",
    "print(\"The change detected number among 100 trails is\", true_alarm)\n",
    "print(\"The average delay time is\", sum(delay_time) * 1.0 / true_alarm)\n",
    "print(\"The mean value of steps in change angle is\", abs(sum(true_change_points) * 1.0 / true_change))\n",
    "print(\"The time for the whole tests in seconds is\", time.time() - start_time)\n"
   ]
  },
  {
   "cell_type": "code",
   "execution_count": 7,
   "metadata": {},
   "outputs": [
    {
     "name": "stdout",
     "output_type": "stream",
     "text": [
      "The PWM (within 100 steps) among 100 trails is 1.0\n",
      "The change detected number among 100 trails is 100\n",
      "The average delay time is 231.0\n",
      "The mean value of steps in change angle is 25.0\n",
      "The time for the whole tests in seconds is 63.54783487319946\n"
     ]
    }
   ],
   "source": [
    "# slope = 0.0002\n",
    "true_alarm = 0\n",
    "true_change = 0\n",
    "true_change_points = []\n",
    "delay_time = []\n",
    "start_time = time.time()\n",
    "\n",
    "for i in range(100):\n",
    "    angle = ANGLE()\n",
    "    data = stream2(0.005)\n",
    "    for j in range(100000):\n",
    "        angle.add_element(data[j])\n",
    "        if angle.detected_change() and j >= 99000:\n",
    "            delay_time.append(j-99000)\n",
    "            true_alarm += 1\n",
    "            true_change_point = j - angle.get_drift_location()\n",
    "            if true_change_point <=99100 and true_change_point >= 98900:\n",
    "                true_change += 1\n",
    "                true_change_points.append(true_change_point-99000)\n",
    "            break\n",
    "\n",
    "print(\"The PWM (within 100 steps) among 100 trails is\", true_change * 1.0 / true_alarm)\n",
    "print(\"The change detected number among 100 trails is\", true_alarm)\n",
    "print(\"The average delay time is\", sum(delay_time) * 1.0 / true_alarm)\n",
    "print(\"The mean value of steps in change angle is\", abs(sum(true_change_points) * 1.0 / true_change))\n",
    "print(\"The time for the whole tests in seconds is\", time.time() - start_time)\n"
   ]
  },
  {
   "cell_type": "code",
   "execution_count": 8,
   "metadata": {},
   "outputs": [
    {
     "name": "stdout",
     "output_type": "stream",
     "text": [
      "The PWM (within 100 steps) among 100 trails is 0.51\n",
      "The change detected number among 100 trails is 100\n",
      "The average delay time is 174.04\n",
      "The mean value of steps in change angle is 51.35294117647059\n",
      "The time for the whole tests in seconds is 63.54183506965637\n"
     ]
    }
   ],
   "source": [
    "# slope = 0.0003\n",
    "true_alarm = 0\n",
    "true_change = 0\n",
    "true_change_points = []\n",
    "delay_time = []\n",
    "start_time = time.time()\n",
    "\n",
    "for i in range(100):\n",
    "    angle = ANGLE()\n",
    "    data = stream3(0.005)\n",
    "    for j in range(100000):\n",
    "        angle.add_element(data[j])\n",
    "        if angle.detected_change() and j >= 99000:\n",
    "            delay_time.append(j-99000)\n",
    "            true_alarm += 1\n",
    "            true_change_point = j - angle.get_drift_location()\n",
    "            if true_change_point <=99100 and true_change_point >= 98900:\n",
    "                true_change += 1\n",
    "                true_change_points.append(true_change_point-99000)\n",
    "            break\n",
    "\n",
    "print(\"The PWM (within 100 steps) among 100 trails is\", true_change * 1.0 / true_alarm)\n",
    "print(\"The change detected number among 100 trails is\", true_alarm)\n",
    "print(\"The average delay time is\", sum(delay_time) * 1.0 / true_alarm)\n",
    "print(\"The mean value of steps in change angle is\", abs(sum(true_change_points) * 1.0 / true_change))\n",
    "print(\"The time for the whole tests in seconds is\", time.time() - start_time)\n"
   ]
  },
  {
   "cell_type": "code",
   "execution_count": 9,
   "metadata": {},
   "outputs": [
    {
     "name": "stdout",
     "output_type": "stream",
     "text": [
      "The PWM (within 100 steps) among 100 trails is 1.0\n",
      "The change detected number among 100 trails is 100\n",
      "The average delay time is 167.0\n",
      "The mean value of steps in change angle is 25.0\n",
      "The time for the whole tests in seconds is 63.39467740058899\n"
     ]
    }
   ],
   "source": [
    "# slope = 0.0004\n",
    "true_alarm = 0\n",
    "true_change = 0\n",
    "true_change_points = []\n",
    "delay_time = []\n",
    "start_time = time.time()\n",
    "\n",
    "for i in range(100):\n",
    "    angle = ANGLE()\n",
    "    data = stream4(0.005)\n",
    "    for j in range(100000):\n",
    "        angle.add_element(data[j])\n",
    "        if angle.detected_change() and j >= 99000:\n",
    "            delay_time.append(j-99000)\n",
    "            true_alarm += 1\n",
    "            true_change_point = j - angle.get_drift_location()\n",
    "            if true_change_point <=99100 and true_change_point >= 98900:\n",
    "                true_change += 1\n",
    "                true_change_points.append(true_change_point-99000)\n",
    "            break\n",
    "\n",
    "print(\"The PWM (within 100 steps) among 100 trails is\", true_change * 1.0 / true_alarm)\n",
    "print(\"The change detected number among 100 trails is\", true_alarm)\n",
    "print(\"The average delay time is\", sum(delay_time) * 1.0 / true_alarm)\n",
    "print(\"The mean value of steps in change angle is\", abs(sum(true_change_points) * 1.0 / true_change))\n",
    "print(\"The time for the whole tests in seconds is\", time.time() - start_time)\n"
   ]
  },
  {
   "cell_type": "markdown",
   "metadata": {},
   "source": [
    "## Data stream with variance of 0.01"
   ]
  },
  {
   "cell_type": "code",
   "execution_count": 10,
   "metadata": {},
   "outputs": [
    {
     "name": "stdout",
     "output_type": "stream",
     "text": [
      "The PWM (within 100 steps) among 100 trails is 0.73\n",
      "The change detected number among 100 trails is 100\n",
      "The average delay time is 315.16\n",
      "The mean value of steps in change angle is 36.83561643835616\n",
      "The time for the whole tests in seconds is 63.66015100479126\n"
     ]
    }
   ],
   "source": [
    "# slope = 0.0001\n",
    "true_alarm = 0\n",
    "true_change = 0\n",
    "true_change_points = []\n",
    "delay_time = []\n",
    "start_time = time.time()\n",
    "\n",
    "for i in range(100):\n",
    "    angle = ANGLE()\n",
    "    data = stream1(0.01)\n",
    "    for j in range(100000):\n",
    "        angle.add_element(data[j])\n",
    "        if angle.detected_change() and j >= 99000:\n",
    "            delay_time.append(j-99000)\n",
    "            true_alarm += 1\n",
    "            true_change_point = j - angle.get_drift_location()\n",
    "            if true_change_point <=99100 and true_change_point >= 98900:\n",
    "                true_change += 1\n",
    "                true_change_points.append(true_change_point-99000)\n",
    "            break\n",
    "\n",
    "print(\"The PWM (within 100 steps) among 100 trails is\", true_change * 1.0 / true_alarm)\n",
    "print(\"The change detected number among 100 trails is\", true_alarm)\n",
    "print(\"The average delay time is\", sum(delay_time) * 1.0 / true_alarm)\n",
    "print(\"The mean value of steps in change angle is\", abs(sum(true_change_points) * 1.0 / true_change))\n",
    "print(\"The time for the whole tests in seconds is\", time.time() - start_time)"
   ]
  },
  {
   "cell_type": "code",
   "execution_count": 11,
   "metadata": {},
   "outputs": [
    {
     "name": "stdout",
     "output_type": "stream",
     "text": [
      "The PWM (within 100 steps) among 100 trails is 1.0\n",
      "The change detected number among 100 trails is 100\n",
      "The average delay time is 231.0\n",
      "The mean value of steps in change angle is 32.68\n",
      "The time for the whole tests in seconds is 63.569565296173096\n"
     ]
    }
   ],
   "source": [
    "# slope = 0.0002\n",
    "true_alarm = 0\n",
    "true_change = 0\n",
    "true_change_points = []\n",
    "delay_time = []\n",
    "start_time = time.time()\n",
    "\n",
    "for i in range(100):\n",
    "    angle = ANGLE()\n",
    "    data = stream2(0.01)\n",
    "    for j in range(100000):\n",
    "        angle.add_element(data[j])\n",
    "        if angle.detected_change() and j >= 99000:\n",
    "            delay_time.append(j-99000)\n",
    "            true_alarm += 1\n",
    "            true_change_point = j - angle.get_drift_location()\n",
    "            if true_change_point <=99100 and true_change_point >= 98900:\n",
    "                true_change += 1\n",
    "                true_change_points.append(true_change_point-99000)\n",
    "            break\n",
    "\n",
    "print(\"The PWM (within 100 steps) among 100 trails is\", true_change * 1.0 / true_alarm)\n",
    "print(\"The change detected number among 100 trails is\", true_alarm)\n",
    "print(\"The average delay time is\", sum(delay_time) * 1.0 / true_alarm)\n",
    "print(\"The mean value of steps in change angle is\", abs(sum(true_change_points) * 1.0 / true_change))\n",
    "print(\"The time for the whole tests in seconds is\", time.time() - start_time)\n"
   ]
  },
  {
   "cell_type": "code",
   "execution_count": 12,
   "metadata": {},
   "outputs": [
    {
     "name": "stdout",
     "output_type": "stream",
     "text": [
      "The PWM (within 100 steps) among 100 trails is 0.93\n",
      "The change detected number among 100 trails is 100\n",
      "The average delay time is 194.84\n",
      "The mean value of steps in change angle is 26.72043010752688\n",
      "The time for the whole tests in seconds is 63.37738394737244\n"
     ]
    }
   ],
   "source": [
    "# slope = 0.0003\n",
    "true_alarm = 0\n",
    "true_change = 0\n",
    "true_change_points = []\n",
    "delay_time = []\n",
    "start_time = time.time()\n",
    "\n",
    "for i in range(100):\n",
    "    angle = ANGLE()\n",
    "    data = stream3(0.01)\n",
    "    for j in range(100000):\n",
    "        angle.add_element(data[j])\n",
    "        if angle.detected_change() and j >= 99000:\n",
    "            delay_time.append(j-99000)\n",
    "            true_alarm += 1\n",
    "            true_change_point = j - angle.get_drift_location()\n",
    "            if true_change_point <=99100 and true_change_point >= 98900:\n",
    "                true_change += 1\n",
    "                true_change_points.append(true_change_point-99000)\n",
    "            break\n",
    "\n",
    "print(\"The PWM (within 100 steps) among 100 trails is\", true_change * 1.0 / true_alarm)\n",
    "print(\"The change detected number among 100 trails is\", true_alarm)\n",
    "print(\"The average delay time is\", sum(delay_time) * 1.0 / true_alarm)\n",
    "print(\"The mean value of steps in change angle is\", abs(sum(true_change_points) * 1.0 / true_change))\n",
    "print(\"The time for the whole tests in seconds is\", time.time() - start_time)"
   ]
  },
  {
   "cell_type": "code",
   "execution_count": 13,
   "metadata": {},
   "outputs": [
    {
     "name": "stdout",
     "output_type": "stream",
     "text": [
      "The PWM (within 100 steps) among 100 trails is 1.0\n",
      "The change detected number among 100 trails is 100\n",
      "The average delay time is 167.0\n",
      "The mean value of steps in change angle is 25.96\n",
      "The time for the whole tests in seconds is 63.790430784225464\n"
     ]
    }
   ],
   "source": [
    "# slope = 0.0004\n",
    "true_alarm = 0\n",
    "true_change = 0\n",
    "true_change_points = []\n",
    "delay_time = []\n",
    "start_time = time.time()\n",
    "\n",
    "for i in range(100):\n",
    "    angle = ANGLE()\n",
    "    data = stream4(0.01)\n",
    "    for j in range(100000):\n",
    "        angle.add_element(data[j])\n",
    "        if angle.detected_change() and j >= 99000:\n",
    "            delay_time.append(j-99000)\n",
    "            true_alarm += 1\n",
    "            true_change_point = j - angle.get_drift_location()\n",
    "            if true_change_point <=99100 and true_change_point >= 98900:\n",
    "                true_change += 1\n",
    "                true_change_points.append(true_change_point-99000)\n",
    "            break\n",
    "\n",
    "print(\"The PWM (within 100 steps) among 100 trails is\", true_change * 1.0 / true_alarm)\n",
    "print(\"The change detected number among 100 trails is\", true_alarm)\n",
    "print(\"The average delay time is\", sum(delay_time) * 1.0 / true_alarm)\n",
    "print(\"The mean value of steps in change angle is\", abs(sum(true_change_points) * 1.0 / true_change))\n",
    "print(\"The time for the whole tests in seconds is\", time.time() - start_time)"
   ]
  },
  {
   "cell_type": "markdown",
   "metadata": {},
   "source": [
    "## Data stream with variance of 0.015"
   ]
  },
  {
   "cell_type": "code",
   "execution_count": 14,
   "metadata": {},
   "outputs": [
    {
     "name": "stdout",
     "output_type": "stream",
     "text": [
      "The PWM (within 100 steps) among 100 trails is 0.78\n",
      "The change detected number among 100 trails is 100\n",
      "The average delay time is 322.52\n",
      "The mean value of steps in change angle is 41.82051282051282\n",
      "The time for the whole tests in seconds is 63.598029136657715\n"
     ]
    }
   ],
   "source": [
    "# slope = 0.0001\n",
    "true_alarm = 0\n",
    "true_change = 0\n",
    "true_change_points = []\n",
    "delay_time = []\n",
    "start_time = time.time()\n",
    "\n",
    "for i in range(100):\n",
    "    angle = ANGLE()\n",
    "    data = stream1(0.015)\n",
    "    for j in range(100000):\n",
    "        angle.add_element(data[j])\n",
    "        if angle.detected_change() and j >= 99000:\n",
    "            delay_time.append(j-99000)\n",
    "            true_alarm += 1\n",
    "            true_change_point = j - angle.get_drift_location()\n",
    "            if true_change_point <=99100 and true_change_point >= 98900:\n",
    "                true_change += 1\n",
    "                true_change_points.append(true_change_point-99000)\n",
    "            break\n",
    "\n",
    "print(\"The PWM (within 100 steps) among 100 trails is\", true_change * 1.0 / true_alarm)\n",
    "print(\"The change detected number among 100 trails is\", true_alarm)\n",
    "print(\"The average delay time is\", sum(delay_time) * 1.0 / true_alarm)\n",
    "print(\"The mean value of steps in change angle is\", abs(sum(true_change_points) * 1.0 / true_change))\n",
    "print(\"The time for the whole tests in seconds is\", time.time() - start_time)"
   ]
  },
  {
   "cell_type": "code",
   "execution_count": 15,
   "metadata": {},
   "outputs": [
    {
     "name": "stdout",
     "output_type": "stream",
     "text": [
      "The PWM (within 100 steps) among 100 trails is 0.93\n",
      "The change detected number among 100 trails is 100\n",
      "The average delay time is 231.0\n",
      "The mean value of steps in change angle is 40.82795698924731\n",
      "The time for the whole tests in seconds is 63.60980772972107\n"
     ]
    }
   ],
   "source": [
    "# slope = 0.0002\n",
    "true_alarm = 0\n",
    "true_change = 0\n",
    "true_change_points = []\n",
    "delay_time = []\n",
    "start_time = time.time()\n",
    "\n",
    "for i in range(100):\n",
    "    angle = ANGLE()\n",
    "    data = stream2(0.015)\n",
    "    for j in range(100000):\n",
    "        angle.add_element(data[j])\n",
    "        if angle.detected_change() and j >= 99000:\n",
    "            delay_time.append(j-99000)\n",
    "            true_alarm += 1\n",
    "            true_change_point = j - angle.get_drift_location()\n",
    "            if true_change_point <=99100 and true_change_point >= 98900:\n",
    "                true_change += 1\n",
    "                true_change_points.append(true_change_point-99000)\n",
    "            break\n",
    "\n",
    "print(\"The PWM (within 100 steps) among 100 trails is\", true_change * 1.0 / true_alarm)\n",
    "print(\"The change detected number among 100 trails is\", true_alarm)\n",
    "print(\"The average delay time is\", sum(delay_time) * 1.0 / true_alarm)\n",
    "print(\"The mean value of steps in change angle is\", abs(sum(true_change_points) * 1.0 / true_change))\n",
    "print(\"The time for the whole tests in seconds is\", time.time() - start_time)"
   ]
  },
  {
   "cell_type": "code",
   "execution_count": 16,
   "metadata": {},
   "outputs": [
    {
     "name": "stdout",
     "output_type": "stream",
     "text": [
      "The PWM (within 100 steps) among 100 trails is 0.99\n",
      "The change detected number among 100 trails is 100\n",
      "The average delay time is 198.68\n",
      "The mean value of steps in change angle is 34.37373737373738\n",
      "The time for the whole tests in seconds is 63.58575391769409\n"
     ]
    }
   ],
   "source": [
    "# slope = 0.0003\n",
    "true_alarm = 0\n",
    "true_change = 0\n",
    "true_change_points = []\n",
    "delay_time = []\n",
    "start_time = time.time()\n",
    "\n",
    "for i in range(100):\n",
    "    angle = ANGLE()\n",
    "    data = stream3(0.015)\n",
    "    for j in range(100000):\n",
    "        angle.add_element(data[j])\n",
    "        if angle.detected_change() and j >= 99000:\n",
    "            delay_time.append(j-99000)\n",
    "            true_alarm += 1\n",
    "            true_change_point = j - angle.get_drift_location()\n",
    "            if true_change_point <=99100 and true_change_point >= 98900:\n",
    "                true_change += 1\n",
    "                true_change_points.append(true_change_point-99000)\n",
    "            break\n",
    "\n",
    "print(\"The PWM (within 100 steps) among 100 trails is\", true_change * 1.0 / true_alarm)\n",
    "print(\"The change detected number among 100 trails is\", true_alarm)\n",
    "print(\"The average delay time is\", sum(delay_time) * 1.0 / true_alarm)\n",
    "print(\"The mean value of steps in change angle is\", abs(sum(true_change_points) * 1.0 / true_change))\n",
    "print(\"The time for the whole tests in seconds is\", time.time() - start_time)"
   ]
  },
  {
   "cell_type": "code",
   "execution_count": 17,
   "metadata": {},
   "outputs": [
    {
     "name": "stdout",
     "output_type": "stream",
     "text": [
      "The PWM (within 100 steps) among 100 trails is 1.0\n",
      "The change detected number among 100 trails is 100\n",
      "The average delay time is 167.0\n",
      "The mean value of steps in change angle is 29.48\n",
      "The time for the whole tests in seconds is 63.6290168762207\n"
     ]
    }
   ],
   "source": [
    "# slope = 0.0004\n",
    "true_alarm = 0\n",
    "true_change = 0\n",
    "true_change_points = []\n",
    "delay_time = []\n",
    "start_time = time.time()\n",
    "\n",
    "for i in range(100):\n",
    "    angle = ANGLE()\n",
    "    data = stream4(0.015)\n",
    "    for j in range(100000):\n",
    "        angle.add_element(data[j])\n",
    "        if angle.detected_change() and j >= 99000:\n",
    "            delay_time.append(j-99000)\n",
    "            true_alarm += 1\n",
    "            true_change_point = j - angle.get_drift_location()\n",
    "            if true_change_point <=99100 and true_change_point >= 98900:\n",
    "                true_change += 1\n",
    "                true_change_points.append(true_change_point-99000)\n",
    "            break\n",
    "\n",
    "print(\"The PWM (within 100 steps) among 100 trails is\", true_change * 1.0 / true_alarm)\n",
    "print(\"The change detected number among 100 trails is\", true_alarm)\n",
    "print(\"The average delay time is\", sum(delay_time) * 1.0 / true_alarm)\n",
    "print(\"The mean value of steps in change angle is\", abs(sum(true_change_points) * 1.0 / true_change))\n",
    "print(\"The time for the whole tests in seconds is\", time.time() - start_time)"
   ]
  },
  {
   "cell_type": "markdown",
   "metadata": {},
   "source": [
    "## Data stream with variance of 0.02"
   ]
  },
  {
   "cell_type": "code",
   "execution_count": 18,
   "metadata": {},
   "outputs": [
    {
     "name": "stdout",
     "output_type": "stream",
     "text": [
      "The PWM (within 100 steps) among 100 trails is 0.72\n",
      "The change detected number among 100 trails is 100\n",
      "The average delay time is 325.72\n",
      "The mean value of steps in change angle is 37.44444444444444\n",
      "The time for the whole tests in seconds is 63.616175174713135\n"
     ]
    }
   ],
   "source": [
    "# slope = 0.0001\n",
    "true_alarm = 0\n",
    "true_change = 0\n",
    "true_change_points = []\n",
    "delay_time = []\n",
    "start_time = time.time()\n",
    "\n",
    "for i in range(100):\n",
    "    angle = ANGLE()\n",
    "    data = stream1(0.02)\n",
    "    for j in range(100000):\n",
    "        angle.add_element(data[j])\n",
    "        if angle.detected_change() and j >= 99000:\n",
    "            delay_time.append(j-99000)\n",
    "            true_alarm += 1\n",
    "            true_change_point = j - angle.get_drift_location()\n",
    "            if true_change_point <=99100 and true_change_point >= 98900:\n",
    "                true_change += 1\n",
    "                true_change_points.append(true_change_point-99000)\n",
    "            break\n",
    "\n",
    "print(\"The PWM (within 100 steps) among 100 trails is\", true_change * 1.0 / true_alarm)\n",
    "print(\"The change detected number among 100 trails is\", true_alarm)\n",
    "print(\"The average delay time is\", sum(delay_time) * 1.0 / true_alarm)\n",
    "print(\"The mean value of steps in change angle is\", abs(sum(true_change_points) * 1.0 / true_change))\n",
    "print(\"The time for the whole tests in seconds is\", time.time() - start_time)"
   ]
  },
  {
   "cell_type": "code",
   "execution_count": 19,
   "metadata": {},
   "outputs": [
    {
     "name": "stdout",
     "output_type": "stream",
     "text": [
      "The PWM (within 100 steps) among 100 trails is 0.9\n",
      "The change detected number among 100 trails is 100\n",
      "The average delay time is 231.0\n",
      "The mean value of steps in change angle is 41.355555555555554\n",
      "The time for the whole tests in seconds is 63.5576069355011\n"
     ]
    }
   ],
   "source": [
    "# slope = 0.0002\n",
    "true_alarm = 0\n",
    "true_change = 0\n",
    "true_change_points = []\n",
    "delay_time = []\n",
    "start_time = time.time()\n",
    "\n",
    "for i in range(100):\n",
    "    angle = ANGLE()\n",
    "    data = stream2(0.02)\n",
    "    for j in range(100000):\n",
    "        angle.add_element(data[j])\n",
    "        if angle.detected_change() and j >= 99000:\n",
    "            delay_time.append(j-99000)\n",
    "            true_alarm += 1\n",
    "            true_change_point = j - angle.get_drift_location()\n",
    "            if true_change_point <=99100 and true_change_point >= 98900:\n",
    "                true_change += 1\n",
    "                true_change_points.append(true_change_point-99000)\n",
    "            break\n",
    "\n",
    "print(\"The PWM (within 100 steps) among 100 trails is\", true_change * 1.0 / true_alarm)\n",
    "print(\"The change detected number among 100 trails is\", true_alarm)\n",
    "print(\"The average delay time is\", sum(delay_time) * 1.0 / true_alarm)\n",
    "print(\"The mean value of steps in change angle is\", abs(sum(true_change_points) * 1.0 / true_change))\n",
    "print(\"The time for the whole tests in seconds is\", time.time() - start_time)"
   ]
  },
  {
   "cell_type": "code",
   "execution_count": 20,
   "metadata": {},
   "outputs": [
    {
     "name": "stdout",
     "output_type": "stream",
     "text": [
      "The PWM (within 100 steps) among 100 trails is 0.99\n",
      "The change detected number among 100 trails is 100\n",
      "The average delay time is 199.0\n",
      "The mean value of steps in change angle is 35.02020202020202\n",
      "The time for the whole tests in seconds is 63.761653900146484\n"
     ]
    }
   ],
   "source": [
    "# slope = 0.0003\n",
    "true_alarm = 0\n",
    "true_change = 0\n",
    "true_change_points = []\n",
    "delay_time = []\n",
    "start_time = time.time()\n",
    "\n",
    "for i in range(100):\n",
    "    angle = ANGLE()\n",
    "    data = stream3(0.02)\n",
    "    for j in range(100000):\n",
    "        angle.add_element(data[j])\n",
    "        if angle.detected_change() and j >= 99000:\n",
    "            delay_time.append(j-99000)\n",
    "            true_alarm += 1\n",
    "            true_change_point = j - angle.get_drift_location()\n",
    "            if true_change_point <=99100 and true_change_point >= 98900:\n",
    "                true_change += 1\n",
    "                true_change_points.append(true_change_point-99000)\n",
    "            break\n",
    "\n",
    "print(\"The PWM (within 100 steps) among 100 trails is\", true_change * 1.0 / true_alarm)\n",
    "print(\"The change detected number among 100 trails is\", true_alarm)\n",
    "print(\"The average delay time is\", sum(delay_time) * 1.0 / true_alarm)\n",
    "print(\"The mean value of steps in change angle is\", abs(sum(true_change_points) * 1.0 / true_change))\n",
    "print(\"The time for the whole tests in seconds is\", time.time() - start_time)"
   ]
  },
  {
   "cell_type": "code",
   "execution_count": 21,
   "metadata": {},
   "outputs": [
    {
     "name": "stdout",
     "output_type": "stream",
     "text": [
      "The PWM (within 300 steps) among 100 trails is 0.98\n",
      "The change detected number among 100 trails is 100\n",
      "The average delay time is 167.0\n",
      "The mean value of steps in change angle is 29.897959183673468\n",
      "The time for the whole tests in seconds is 63.585938930511475\n"
     ]
    }
   ],
   "source": [
    "# slope = 0.0004\n",
    "true_alarm = 0\n",
    "true_change = 0\n",
    "true_change_points = []\n",
    "delay_time = []\n",
    "start_time = time.time()\n",
    "\n",
    "for i in range(100):\n",
    "    angle = ANGLE()\n",
    "    data = stream4(0.02)\n",
    "    for j in range(100000):\n",
    "        angle.add_element(data[j])\n",
    "        if angle.detected_change() and j >= 99000:\n",
    "            delay_time.append(j-99000)\n",
    "            true_alarm += 1\n",
    "            true_change_point = j - angle.get_drift_location()\n",
    "            if true_change_point <=99100 and true_change_point >= 98900:\n",
    "                true_change += 1\n",
    "                true_change_points.append(true_change_point-99000)\n",
    "            break\n",
    "\n",
    "print(\"The PWM (within 300 steps) among 100 trails is\", true_change * 1.0 / true_alarm)\n",
    "print(\"The change detected number among 100 trails is\", true_alarm)\n",
    "print(\"The average delay time is\", sum(delay_time) * 1.0 / true_alarm)\n",
    "print(\"The mean value of steps in change angle is\", abs(sum(true_change_points) * 1.0 / true_change))\n",
    "print(\"The time for the whole tests in seconds is\", time.time() - start_time)"
   ]
  },
  {
   "cell_type": "markdown",
   "metadata": {},
   "source": [
    "## Result table of this experiment\n",
    "\n",
    "$\\sigma$ = 0.005\n",
    "\n",
    "| slope | SEED TP rate | SEED Delay | ANGLE PWM | ANGLE TC point |\n",
    "| --- | --- | --- | --- | --- |\n",
    "| 0.0001 | 100 | 295.32 | 0.66 | 52.15 |\n",
    "| 0.0002 | 100 | 231.00 | 1.00 | 25.32 |\n",
    "| 0.0003 | 100 | 176.28 | 0.50 | 44.20 |\n",
    "| 0.0004 | 100 | 167.00 | 1.00 | 25.00 |\n",
    "\n",
    "$\\sigma$ = 0.01\n",
    "\n",
    "| slope | SEED TP rate | SEED Delay | ANGLE PWM | ANGLE TC point |\n",
    "| --- | --- | --- | --- | --- |\n",
    "| 0.0001 | 100 | 316.76 | 0.80 | 38.20 |\n",
    "| 0.0002 | 100 | 231.00 | 1.00 | 33.73 |\n",
    "| 0.0003 | 100 | 193.24 | 0.93 | 26.51 |\n",
    "| 0.0004 | 100 | 167.00 | 1.00 | 25.64 |\n",
    "\n",
    "$\\sigma$ = 0.015\n",
    "\n",
    "| slope | SEED TP rate | SEED Delay | ANGLE PWM | ANGLE TC point |\n",
    "| --- | --- | --- | --- | --- |\n",
    "| 0.0001 | 100 | 323.16 | 0.78 | 38.97 |\n",
    "| 0.0002 | 100 | 231.00 | 0.93 | 42.93 |\n",
    "| 0.0003 | 100 | 198.04 | 0.99 | 27.94 |\n",
    "| 0.0004 | 100 | 167.00 | 1.00 | 27.24 |\n",
    "\n",
    "$\\sigma$ = 0.02\n",
    "\n",
    "| slope | SEED TP rate | SEED Delay | ANGLE PWM | ANGLE TC point |\n",
    "| --- | --- | --- | --- | --- |\n",
    "| 0.0001 | 100 | 326.04 | 0.72 | 44.01 |\n",
    "| 0.0002 | 100 | 231.00 | 0.90 | 41.71 |\n",
    "| 0.0003 | 100 | 198.68 | 0.98 | 35.78 |\n",
    "| 0.0004 | 100 | 167.00 | 0.99 | 30.17 |"
   ]
  },
  {
   "cell_type": "code",
   "execution_count": null,
   "metadata": {},
   "outputs": [],
   "source": []
  }
 ],
 "metadata": {
  "kernelspec": {
   "display_name": "Python 3",
   "language": "python",
   "name": "python3"
  },
  "language_info": {
   "codemirror_mode": {
    "name": "ipython",
    "version": 3
   },
   "file_extension": ".py",
   "mimetype": "text/x-python",
   "name": "python",
   "nbconvert_exporter": "python",
   "pygments_lexer": "ipython3",
   "version": "3.7.1"
  }
 },
 "nbformat": 4,
 "nbformat_minor": 2
}
