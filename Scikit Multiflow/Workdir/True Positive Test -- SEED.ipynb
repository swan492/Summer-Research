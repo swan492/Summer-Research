{
 "cells": [
  {
   "cell_type": "markdown",
   "metadata": {},
   "source": [
    "\n",
    "# True Positive (True alarm) test for SEED\n",
    "\n",
    "This experiment is based on the papar \"Detecting Volatility Shift in Data Stream\"."
   ]
  },
  {
   "cell_type": "markdown",
   "metadata": {},
   "source": [
    "## General idea for this experiment\n",
    "\n",
    "Drift detection algorithm SEED is feeding with a stationary data stream followed by gradual changing concept, and any true alarm happened would be recorded and counted to the true positive rate, as well as detection delay and execution time would be also computed in this experiment."
   ]
  },
  {
   "cell_type": "markdown",
   "metadata": {},
   "source": [
    "## Details for this experiment\n",
    "\n",
    "This experiment is conducted with exactly the same sets of changing slopes of parameters $\\mu$ , and other parameters take the best sample on the paper. However, this implement only takes 100 000 bits for each stream instead of 1 000 000 bits, because there is significately longer execution time (much more than half hour) on my PC."
   ]
  },
  {
   "cell_type": "markdown",
   "metadata": {},
   "source": [
    "## Setup and generate different slope data stream"
   ]
  },
  {
   "cell_type": "code",
   "execution_count": 1,
   "metadata": {},
   "outputs": [],
   "source": [
    "from scipy.stats import bernoulli\n",
    "from skmultiflow.drift_detection import SEED\n",
    "import numpy as np\n",
    "import time\n",
    "\n",
    "# We use confidence parameter delta = 0.05 for both SEED and ADWIN\n",
    "\n"
   ]
  },
  {
   "cell_type": "code",
   "execution_count": 2,
   "metadata": {},
   "outputs": [],
   "source": [
    "# data stream generated for slope = 0.0001\n",
    "def stream1():\n",
    "    param = 0.2\n",
    "    data_stream = bernoulli.rvs(size=99000, p=param)\n",
    "    data_stream = data_stream.tolist()\n",
    "    for k in range(1000):\n",
    "        param += 0.0001\n",
    "        ele = bernoulli.rvs(size=1, p=param).tolist()\n",
    "        data_stream = data_stream + ele\n",
    "    return data_stream"
   ]
  },
  {
   "cell_type": "code",
   "execution_count": 4,
   "metadata": {},
   "outputs": [],
   "source": [
    "# data stream generated for slope = 0.0002\n",
    "def stream2():\n",
    "    param = 0.2\n",
    "    data_stream = bernoulli.rvs(size=99000, p=param)\n",
    "    data_stream = data_stream.tolist()\n",
    "    for k in range(1000):\n",
    "        param += 0.0002\n",
    "        ele = bernoulli.rvs(size=1, p=param).tolist()\n",
    "        data_stream = data_stream + ele\n",
    "    return data_stream"
   ]
  },
  {
   "cell_type": "code",
   "execution_count": 5,
   "metadata": {},
   "outputs": [],
   "source": [
    "# data stream generated for slope = 0.0003\n",
    "def stream3():\n",
    "    param = 0.2\n",
    "    data_stream = bernoulli.rvs(size=99000, p=param)\n",
    "    data_stream = data_stream.tolist()\n",
    "    for k in range(1000):\n",
    "        param += 0.0003\n",
    "        ele = bernoulli.rvs(size=1, p=param).tolist()\n",
    "        data_stream = data_stream + ele\n",
    "    return data_stream"
   ]
  },
  {
   "cell_type": "code",
   "execution_count": 6,
   "metadata": {},
   "outputs": [],
   "source": [
    "# data stream generated for slope = 0.0004\n",
    "def stream4():\n",
    "    param = 0.2\n",
    "    data_stream = bernoulli.rvs(size=99000, p=param)\n",
    "    data_stream = data_stream.tolist()\n",
    "    for k in range(1000):\n",
    "        param += 0.0004\n",
    "        ele = bernoulli.rvs(size=1, p=param).tolist()\n",
    "        data_stream = data_stream + ele\n",
    "    return data_stream"
   ]
  },
  {
   "cell_type": "markdown",
   "metadata": {},
   "source": [
    "## Details for implements\n",
    "For each trial\n",
    "\n",
    "    create new drift detector instance\n",
    "    create new data stream\n",
    "\n",
    "\n",
    "    for each data instance\n",
    "\n",
    "        feed drift detector with data\n",
    "        check change happening and increment true alarm number\n",
    "\n",
    "calculate and report true alarm number, average delay time and execution time."
   ]
  },
  {
   "cell_type": "code",
   "execution_count": 7,
   "metadata": {},
   "outputs": [
    {
     "name": "stdout",
     "output_type": "stream",
     "text": [
      "The true alarm number among 100 trails is 80\n",
      "The average delay time among 100 trails is 623.84\n",
      "The time for the whole tests in seconds is 110.25690793991089\n"
     ]
    }
   ],
   "source": [
    "# slope = 0.0001\n",
    "true_alarm = 0\n",
    "delay_time = []\n",
    "start_time = time.time()\n",
    "\n",
    "for i in range(100):\n",
    "    seed = SEED()\n",
    "    data = stream1()\n",
    "    for j in range(100000):\n",
    "        seed.add_element(data[j])\n",
    "        if seed.detected_change() and j >= 99000:\n",
    "            true_alarm += 1\n",
    "            delay_time.append(j-99000)\n",
    "            break\n",
    "print(\"The true alarm number among 100 trails is\", true_alarm)\n",
    "print(\"The average delay time among 100 trails is\", sum(delay_time)/100.0)\n",
    "print(\"The time for the whole tests in seconds is\", time.time() - start_time)"
   ]
  },
  {
   "cell_type": "code",
   "execution_count": 8,
   "metadata": {},
   "outputs": [
    {
     "name": "stdout",
     "output_type": "stream",
     "text": [
      "The true alarm number among 100 trails is 100\n",
      "The average delay time among 100 trails is 536.28\n",
      "The time for the whole tests in seconds is 110.76663517951965\n"
     ]
    }
   ],
   "source": [
    "# slope = 0.0002\n",
    "true_alarm = 0\n",
    "delay_time = []\n",
    "start_time = time.time()\n",
    "\n",
    "for i in range(100):\n",
    "    seed = SEED()\n",
    "    data = stream2()\n",
    "    for j in range(100000):\n",
    "        seed.add_element(data[j])\n",
    "        if seed.detected_change() and j >= 99000:\n",
    "            true_alarm += 1\n",
    "            delay_time.append(j-99000)\n",
    "            break\n",
    "print(\"The true alarm number among 100 trails is\", true_alarm)\n",
    "print(\"The average delay time among 100 trails is\", sum(delay_time)/100.0)\n",
    "print(\"The time for the whole tests in seconds is\", time.time() - start_time)"
   ]
  },
  {
   "cell_type": "code",
   "execution_count": 9,
   "metadata": {},
   "outputs": [
    {
     "name": "stdout",
     "output_type": "stream",
     "text": [
      "The true alarm number among 100 trails is 100\n",
      "The average delay time among 100 trails is 434.52\n",
      "The time for the whole tests in seconds is 109.37062907218933\n"
     ]
    }
   ],
   "source": [
    "# slope = 0.0003\n",
    "true_alarm = 0\n",
    "delay_time = []\n",
    "start_time = time.time()\n",
    "\n",
    "for i in range(100):\n",
    "    seed = SEED()\n",
    "    data = stream3()\n",
    "    for j in range(100000):\n",
    "        seed.add_element(data[j])\n",
    "        if seed.detected_change() and j >= 99000:\n",
    "            true_alarm += 1\n",
    "            delay_time.append(j-99000)\n",
    "            break\n",
    "print(\"The true alarm number among 100 trails is\", true_alarm)\n",
    "print(\"The average delay time among 100 trails is\", sum(delay_time)/100.0)\n",
    "print(\"The time for the whole tests in seconds is\", time.time() - start_time)"
   ]
  },
  {
   "cell_type": "code",
   "execution_count": 10,
   "metadata": {},
   "outputs": [
    {
     "name": "stdout",
     "output_type": "stream",
     "text": [
      "The true alarm number among 100 trails is 100\n",
      "The average delay time among 100 trails is 368.28\n",
      "The time for the whole tests in seconds is 111.56591391563416\n"
     ]
    }
   ],
   "source": [
    "# slope = 0.0004\n",
    "true_alarm = 0\n",
    "delay_time = []\n",
    "start_time = time.time()\n",
    "\n",
    "for i in range(100):\n",
    "    seed = SEED()\n",
    "    data = stream4()\n",
    "    for j in range(100000):\n",
    "        seed.add_element(data[j])\n",
    "        if seed.detected_change() and j >= 99000:\n",
    "            true_alarm += 1\n",
    "            delay_time.append(j-99000)\n",
    "            break\n",
    "print(\"The true alarm number among 100 trails is\", true_alarm)\n",
    "print(\"The average delay time among 100 trails is\", sum(delay_time)/100.0)\n",
    "print(\"The time for the whole tests in seconds is\", time.time() - start_time)"
   ]
  },
  {
   "cell_type": "markdown",
   "metadata": {},
   "source": [
    "## Result table of this experiment\n",
    "\n",
    "| slope | TP times | Delay (avg) | Time (second) |\n",
    "| --- | --- | --- | --- |\n",
    "| 0.0001 | 80 | 623.84 | 110.26 |\n",
    "| 0.0002 | 100 | 536.28 | 110.77 |\n",
    "| 0.0003 | 100 | 434.52 | 109.37 |\n",
    "| 0.0004 | 100 | 368.28 | 111.57 |\n"
   ]
  },
  {
   "cell_type": "code",
   "execution_count": null,
   "metadata": {},
   "outputs": [],
   "source": []
  }
 ],
 "metadata": {
  "kernelspec": {
   "display_name": "Python 3",
   "language": "python",
   "name": "python3"
  },
  "language_info": {
   "codemirror_mode": {
    "name": "ipython",
    "version": 3
   },
   "file_extension": ".py",
   "mimetype": "text/x-python",
   "name": "python",
   "nbconvert_exporter": "python",
   "pygments_lexer": "ipython3",
   "version": "3.7.1"
  }
 },
 "nbformat": 4,
 "nbformat_minor": 2
}
