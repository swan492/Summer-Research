{
 "cells": [
  {
   "cell_type": "markdown",
   "metadata": {},
   "source": [
    "# False Positive (False alarm) test for SEED\n",
    "\n",
    "This experiment is based on the papar \"Detecting Volatility Shift in Data Stream\"."
   ]
  },
  {
   "cell_type": "markdown",
   "metadata": {},
   "source": [
    "## General idea for this experiment\n",
    "\n",
    "A stationary binary data stream under Bernoulli distribution is generated and feeds SEED drift detector with particular parameters setting, then any false alarms would be counted to the false positive rate."
   ]
  },
  {
   "cell_type": "markdown",
   "metadata": {},
   "source": [
    "## Details for this experiment\n",
    "\n",
    "This experiment is conducted with exactly the same sets of combination on parameters $\\mu$ and $\\delta$, and other parameters take the best sample on the paper. However, this implement only takes 100 trials for each parameter combination instead of 1000 trials, because there is significately longer execution time (much more than half hour) on my PC."
   ]
  },
  {
   "cell_type": "markdown",
   "metadata": {},
   "source": [
    "## Setup and Configure SEED change detector"
   ]
  },
  {
   "cell_type": "code",
   "execution_count": 1,
   "metadata": {},
   "outputs": [],
   "source": [
    "# import required package\n",
    "from scipy.stats import bernoulli\n",
    "from skmultiflow.drift_detection import SEED\n",
    "from skmultiflow.drift_detection import ADWIN\n",
    "import numpy as np\n",
    "\n",
    "# We use SEED best parameter with blocksize = 32, compression = 75, \n",
    "# epsilon = 0.01 and alpha = 0.8\n",
    "\n",
    "# delta = 0.05\n",
    "seed05 = SEED(0.05)\n",
    "\n",
    "# delta = 0.1\n",
    "seed1 = SEED(0.1)\n",
    "\n",
    "# delta = 0.3\n",
    "seed3 = SEED(0.3)"
   ]
  },
  {
   "cell_type": "markdown",
   "metadata": {},
   "source": [
    "## Details for implements\n",
    "\n",
    "For each trial\n",
    "\n",
    "    clear up number of false alarm\n",
    "    create new data stream\n",
    "    create new drift detector instance\n",
    "    \n",
    "    for each data instance\n",
    "    \n",
    "        feed drift detector with data\n",
    "        check change happening and increment false alarm number\n",
    "        \n",
    "    calculate false positive rate (false alarm number / data instance number)\n",
    "\n",
    "Report the final false positive rate (sum of all cases)"
   ]
  },
  {
   "cell_type": "markdown",
   "metadata": {},
   "source": [
    "## Experiment begin (Each block for test on one particular combination)"
   ]
  },
  {
   "cell_type": "code",
   "execution_count": 15,
   "metadata": {},
   "outputs": [
    {
     "name": "stdout",
     "output_type": "stream",
     "text": [
      "The false positive rate for mu = 0.01 and delta = 0.05 is 8e-05\n"
     ]
    }
   ],
   "source": [
    "# mu = 0.01 and delta = 0.05\n",
    "\n",
    "false_rate = []\n",
    "for i in range (100):\n",
    "    false_alarm = 0\n",
    "    data01 = bernoulli.rvs(size=100000, p=0.01)\n",
    "    seed05 = SEED()\n",
    "    for j in range(100000):\n",
    "        seed05.add_element(data01[j])\n",
    "        if seed05.detected_change():\n",
    "            false_alarm += 1\n",
    "    false_rate.append(false_alarm / 100000.0)\n",
    "print(\"The false positive rate for mu = 0.01 and delta = 0.05 is\", sum(false_rate))"
   ]
  },
  {
   "cell_type": "code",
   "execution_count": 14,
   "metadata": {},
   "outputs": [
    {
     "name": "stdout",
     "output_type": "stream",
     "text": [
      "The false positive rate for mu = 0.01 and delta = 0.1 is 0.00027\n"
     ]
    }
   ],
   "source": [
    "# mu = 0.01 and delta = 0.1\n",
    "\n",
    "false_rate = []\n",
    "for i in range (100):\n",
    "    false_alarm = 0\n",
    "    data01 = bernoulli.rvs(size=100000, p=0.01)\n",
    "    seed1 = SEED(delta=0.1)\n",
    "    for j in range(100000):\n",
    "        seed1.add_element(data01[j])\n",
    "        if seed1.detected_change():\n",
    "            false_alarm += 1\n",
    "    false_rate.append(false_alarm / 100000.0)\n",
    "print(\"The false positive rate for mu = 0.01 and delta = 0.1 is\", sum(false_rate))"
   ]
  },
  {
   "cell_type": "code",
   "execution_count": 13,
   "metadata": {},
   "outputs": [
    {
     "name": "stdout",
     "output_type": "stream",
     "text": [
      "The false positive rate for mu = 0.01 and delta = 0.3 is 0.0017900000000000019\n"
     ]
    }
   ],
   "source": [
    "# mu = 0.01 and delta = 0.3\n",
    "\n",
    "false_rate = []\n",
    "for i in range (100):\n",
    "    false_alarm = 0\n",
    "    data01 = bernoulli.rvs(size=100000, p=0.01)\n",
    "    seed3 = SEED(0.3)\n",
    "    for j in range(100000):\n",
    "        seed3.add_element(data01[j])\n",
    "        if seed3.detected_change():\n",
    "            false_alarm += 1\n",
    "    false_rate.append(false_alarm / 100000.0)\n",
    "print(\"The false positive rate for mu = 0.01 and delta = 0.3 is\", sum(false_rate))"
   ]
  },
  {
   "cell_type": "code",
   "execution_count": 12,
   "metadata": {},
   "outputs": [
    {
     "name": "stdout",
     "output_type": "stream",
     "text": [
      "The false positive rate for mu = 0.1 and delta = 0.05 is 0.0008200000000000007\n"
     ]
    }
   ],
   "source": [
    "# mu = 0.1 and delta = 0.05\n",
    "\n",
    "false_rate = []\n",
    "for i in range (100):\n",
    "    false_alarm = 0\n",
    "    data1 = bernoulli.rvs(size=100000, p=0.1)\n",
    "    seed05 = SEED(0.05)\n",
    "    for j in range(100000):\n",
    "        seed05.add_element(data1[j])\n",
    "        if seed05.detected_change():\n",
    "            false_alarm += 1\n",
    "    false_rate.append(false_alarm / 100000.0)\n",
    "print(\"The false positive rate for mu = 0.1 and delta = 0.05 is\", sum(false_rate))"
   ]
  },
  {
   "cell_type": "code",
   "execution_count": 11,
   "metadata": {},
   "outputs": [
    {
     "name": "stdout",
     "output_type": "stream",
     "text": [
      "The false positive rate for mu = 0.1 and delta = 0.1 is 0.002120000000000002\n"
     ]
    }
   ],
   "source": [
    "# mu = 0.1 and delta = 0.1\n",
    "\n",
    "false_rate = []\n",
    "for i in range (100):\n",
    "    false_alarm = 0\n",
    "    data1 = bernoulli.rvs(size=100000, p=0.1)\n",
    "    seed1 = SEED(0.1)\n",
    "    for j in range(100000):\n",
    "        seed1.add_element(data1[j])\n",
    "        if seed1.detected_change():\n",
    "            false_alarm += 1\n",
    "    false_rate.append(false_alarm / 100000.0)\n",
    "print(\"The false positive rate for mu = 0.1 and delta = 0.1 is\", sum(false_rate))"
   ]
  },
  {
   "cell_type": "code",
   "execution_count": 10,
   "metadata": {},
   "outputs": [
    {
     "name": "stdout",
     "output_type": "stream",
     "text": [
      "The false positive rate for mu = 0.1 and delta = 0.3 is 0.010140000000000005\n"
     ]
    }
   ],
   "source": [
    "# mu = 0.1 and delta = 0.3\n",
    "\n",
    "false_rate = []\n",
    "for i in range (100):\n",
    "    false_alarm = 0\n",
    "    data1 = bernoulli.rvs(size=100000, p=0.1)\n",
    "    seed3 = SEED(0.3)\n",
    "    for j in range(100000):\n",
    "        seed3.add_element(data1[j])\n",
    "        if seed3.detected_change():\n",
    "            false_alarm += 1\n",
    "    false_rate.append(false_alarm / 100000.0)\n",
    "print(\"The false positive rate for mu = 0.1 and delta = 0.3 is\", sum(false_rate))"
   ]
  },
  {
   "cell_type": "code",
   "execution_count": 9,
   "metadata": {},
   "outputs": [
    {
     "name": "stdout",
     "output_type": "stream",
     "text": [
      "The false positive rate for mu = 0.3 and delta = 0.05 is 0.0012800000000000014\n"
     ]
    }
   ],
   "source": [
    "# mu = 0.3 and delta = 0.05\n",
    "\n",
    "false_rate = []\n",
    "for i in range (100):\n",
    "    false_alarm = 0\n",
    "    data3 = bernoulli.rvs(size=100000, p=0.3)\n",
    "    seed05 = SEED(0.05)\n",
    "    for j in range(100000):\n",
    "        seed05.add_element(data3[j])\n",
    "        if seed05.detected_change():\n",
    "            false_alarm += 1\n",
    "    false_rate.append(false_alarm / 100000.0)\n",
    "print(\"The false positive rate for mu = 0.3 and delta = 0.05 is\", sum(false_rate))"
   ]
  },
  {
   "cell_type": "code",
   "execution_count": 7,
   "metadata": {},
   "outputs": [
    {
     "name": "stdout",
     "output_type": "stream",
     "text": [
      "The false positive rate for mu = 0.3 and delta = 0.1 is 0.004360000000000003\n"
     ]
    }
   ],
   "source": [
    "# mu = 0.3 and delta = 0.1\n",
    "\n",
    "false_rate = []\n",
    "for i in range (100):\n",
    "    false_alarm = 0\n",
    "    data3 = bernoulli.rvs(size=100000, p=0.3)\n",
    "    seed1 = SEED(0.1)\n",
    "    for j in range(100000):\n",
    "        seed1.add_element(data3[j])\n",
    "        if seed1.detected_change():\n",
    "            false_alarm += 1\n",
    "    false_rate.append(false_alarm / 100000.0)\n",
    "print(\"The false positive rate for mu = 0.3 and delta = 0.1 is\", sum(false_rate))"
   ]
  },
  {
   "cell_type": "code",
   "execution_count": 6,
   "metadata": {},
   "outputs": [
    {
     "name": "stdout",
     "output_type": "stream",
     "text": [
      "The false positive rate for mu = 0.3 and delta = 0.3 is 0.01625\n"
     ]
    }
   ],
   "source": [
    "# mu = 0.3 and delta = 0.3\n",
    "\n",
    "false_rate = []\n",
    "for i in range (100):\n",
    "    false_alarm = 0\n",
    "    data3 = bernoulli.rvs(size=100000, p=0.3)\n",
    "    seed3 = SEED(0.3)\n",
    "    for j in range(100000):\n",
    "        seed3.add_element(data3[j])\n",
    "        if seed3.detected_change():\n",
    "            false_alarm += 1\n",
    "    false_rate.append(false_alarm / 100000.0)\n",
    "print(\"The false positive rate for mu = 0.3 and delta = 0.3 is\", sum(false_rate))"
   ]
  },
  {
   "cell_type": "code",
   "execution_count": 4,
   "metadata": {},
   "outputs": [
    {
     "name": "stdout",
     "output_type": "stream",
     "text": [
      "The false positive rate for mu = 0.5 and delta = 0.05 is 0.0018800000000000021\n"
     ]
    }
   ],
   "source": [
    "# mu = 0.5 and delta = 0.05\n",
    "\n",
    "false_rate = []\n",
    "for i in range (100):\n",
    "    false_alarm = 0\n",
    "    data5 = bernoulli.rvs(size=100000, p=0.5)\n",
    "    seed05 = SEED(0.05)\n",
    "    for j in range(100000):\n",
    "        seed05.add_element(data5[j])\n",
    "        if seed05.detected_change():\n",
    "            false_alarm += 1\n",
    "    false_rate.append(false_alarm / 100000.0)\n",
    "print(\"The false positive rate for mu = 0.5 and delta = 0.05 is\", sum(false_rate))"
   ]
  },
  {
   "cell_type": "code",
   "execution_count": 3,
   "metadata": {},
   "outputs": [
    {
     "name": "stdout",
     "output_type": "stream",
     "text": [
      "The false positive rate for mu = 0.5 and delta = 0.1 is 0.004160000000000006\n"
     ]
    }
   ],
   "source": [
    "# mu = 0.5 and delta = 0.1\n",
    "\n",
    "false_rate = []\n",
    "for i in range (100):\n",
    "    false_alarm = 0\n",
    "    data5 = bernoulli.rvs(size=100000, p=0.5)\n",
    "    seed1 = SEED(0.1)\n",
    "    for j in range(100000):\n",
    "        seed1.add_element(data5[j])\n",
    "        if seed1.detected_change():\n",
    "            false_alarm += 1\n",
    "    false_rate.append(false_alarm / 100000.0)\n",
    "print(\"The false positive rate for mu = 0.5 and delta = 0.1 is\", sum(false_rate))"
   ]
  },
  {
   "cell_type": "code",
   "execution_count": 2,
   "metadata": {},
   "outputs": [
    {
     "name": "stdout",
     "output_type": "stream",
     "text": [
      "The false positive rate for mu = 0.3 and delta = 0.3 is 0.01777\n"
     ]
    }
   ],
   "source": [
    "# mu = 0.5 and delta = 0.3\n",
    "\n",
    "false_rate = []\n",
    "for i in range (100):\n",
    "    false_alarm = 0\n",
    "    data5 = bernoulli.rvs(size=100000, p=0.5)\n",
    "    seed3 = SEED(0.3)\n",
    "    for j in range(100000):\n",
    "        seed3.add_element(data5[j])\n",
    "        if seed3.detected_change():\n",
    "            false_alarm += 1\n",
    "    false_rate.append(false_alarm / 100000.0)\n",
    "print(\"The false positive rate for mu = 0.3 and delta = 0.3 is\", sum(false_rate))"
   ]
  },
  {
   "cell_type": "markdown",
   "metadata": {},
   "source": [
    "## Result table of this experiment\n",
    "\n",
    "| $\\mu$/$\\delta$ | 0.05 | 0.1 | 0.3|\n",
    "| --- | --- | --- | --- |\n",
    "| 0.01 | 0.0001 | 0.0003 | 0.0018 |\n",
    "| 0.1 | 0.0008 | 0.0021 | 0.0101 |\n",
    "| 0.3 | 0.0013 | 0.0044 | 0.0163 |\n",
    "| 0.5 | 0.0019 | 0.0042 | 0.0178 |\n",
    "\n",
    "Each block of code executes for about 5 minutes."
   ]
  },
  {
   "cell_type": "code",
   "execution_count": null,
   "metadata": {},
   "outputs": [],
   "source": []
  }
 ],
 "metadata": {
  "kernelspec": {
   "display_name": "Python 3",
   "language": "python",
   "name": "python3"
  },
  "language_info": {
   "codemirror_mode": {
    "name": "ipython",
    "version": 3
   },
   "file_extension": ".py",
   "mimetype": "text/x-python",
   "name": "python",
   "nbconvert_exporter": "python",
   "pygments_lexer": "ipython3",
   "version": "3.7.1"
  }
 },
 "nbformat": 4,
 "nbformat_minor": 2
}
